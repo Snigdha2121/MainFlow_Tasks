{
 "cells": [
  {
   "cell_type": "code",
   "execution_count": 1,
   "id": "f12b430f-8af5-48bd-aa72-1aad53a77d32",
   "metadata": {},
   "outputs": [
    {
     "name": "stdout",
     "output_type": "stream",
     "text": [
      "The updated list is [0, 2, 4, 6, 8, 10]\n"
     ]
    }
   ],
   "source": [
    "# List:- Lists are ordered collections of items enclosed between square brackets [] and seperated by commas. It is mutuable.\n",
    "\n",
    "# Creating a List\n",
    "my_list = [1, 2, 3, 4, 6, 8]\n",
    "\n",
    "# Adding an element to the list\n",
    "my_list.append(10) # append(), add an item to the end of a list. \n",
    "\n",
    "# Removing an element from the list\n",
    "my_list.remove(3) # remove (), removes specific elements from a list, if the element is not present it throws an error\n",
    "\n",
    "# Modifying an element in the list\n",
    "my_list[0] = 0\n",
    "\n",
    "# Printing the Updated list using the print()\n",
    "print(\"The updated list is\", my_list)"
   ]
  },
  {
   "cell_type": "code",
   "execution_count": 2,
   "id": "21a38c37-88c7-4fd8-8f4b-af48f7022f05",
   "metadata": {},
   "outputs": [
    {
     "name": "stdout",
     "output_type": "stream",
     "text": [
      "The updated dictionary is {'Name': 'Aman', 'State': 'Rajasthan', 'Country': 'India', 'City': 'Jaipur'}\n"
     ]
    }
   ],
   "source": [
    "# Dictionary:- Dictionaries are mutable data structures that allow you to store key-value pairs. It can be created using the dict() constructor or curly braces '{}'.\n",
    "\n",
    "# Creating a Dictionary\n",
    "my_dict = {'Name': 'Raman', 'Age': 23, 'State': 'Rajasthan', 'Country': 'India'}\n",
    "\n",
    "# Adding an element to the dictionary\n",
    "my_dict['City'] = 'Jaipur' \n",
    "\n",
    "# Removing an element from the dictionary\n",
    "del my_dict['Age'] # The del keyword is used to delete objects.\n",
    "\n",
    "# Modifying an element in the dictionary\n",
    "my_dict['Name'] = 'Aman'\n",
    "\n",
    "# Printing the Updated dictionary using the print()\n",
    "print(\"The updated dictionary is\", my_dict)"
   ]
  },
  {
   "cell_type": "code",
   "execution_count": 4,
   "id": "6abcce87-5b86-47eb-8a07-4d531a364077",
   "metadata": {},
   "outputs": [
    {
     "name": "stdout",
     "output_type": "stream",
     "text": [
      "The updated set is {2, 3, 4, 6}\n"
     ]
    }
   ],
   "source": [
    "# Sets:- A set in Python is an unordered collection of unique elements. It is mutable and are written with curly braces {}\n",
    "\n",
    "# Creating a set\n",
    "my_set = {1, 2, 3, 4, 5}\n",
    "\n",
    "# Adding an element to the set\n",
    "my_set.add(6) # The add() method adds an element to the set. If the element already exists, the add() method does not add the element.\n",
    "\n",
    "# Removing an element from the set\n",
    "my_set.remove(1) #The remove() method removes the specified element from the set. If the specified item does not exist it will raise an error.\n",
    "\n",
    "# Modifying an element in the set\n",
    "my_set.discard(5) # The discard() function removes a specified element from a Set. But if the specified item does not exist it will not raise any error.\n",
    "my_set.add(3)\n",
    "\n",
    "# Printing the Updated set using the print()\n",
    "print(\"The updated set is\", my_set)"
   ]
  },
  {
   "cell_type": "code",
   "execution_count": null,
   "id": "eaa5da0f-ed81-4809-a2b4-73d4ce3fa298",
   "metadata": {},
   "outputs": [],
   "source": []
  }
 ],
 "metadata": {
  "kernelspec": {
   "display_name": "Python 3 (ipykernel)",
   "language": "python",
   "name": "python3"
  },
  "language_info": {
   "codemirror_mode": {
    "name": "ipython",
    "version": 3
   },
   "file_extension": ".py",
   "mimetype": "text/x-python",
   "name": "python",
   "nbconvert_exporter": "python",
   "pygments_lexer": "ipython3",
   "version": "3.11.3"
  }
 },
 "nbformat": 4,
 "nbformat_minor": 5
}
